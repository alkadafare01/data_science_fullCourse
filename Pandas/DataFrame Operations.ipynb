{
 "cells": [
  {
   "cell_type": "markdown",
   "metadata": {},
   "source": [
    "# Pandas - Data Frame Operations"
   ]
  },
  {
   "cell_type": "code",
   "execution_count": null,
   "metadata": {},
   "outputs": [],
   "source": [
    "import numpy as np\n",
    "import pandas as pd"
   ]
  },
  {
   "cell_type": "code",
   "execution_count": null,
   "metadata": {},
   "outputs": [],
   "source": [
    "datasetExample = pd.read_csv('FinalOutput.csv')"
   ]
  },
  {
   "cell_type": "markdown",
   "metadata": {},
   "source": [
    "### Operation 1:  Use of Relational,logical and comparison oeprations"
   ]
  },
  {
   "cell_type": "code",
   "execution_count": null,
   "metadata": {},
   "outputs": [],
   "source": [
    "#1. Extract the records of employees whose esal is greater than 5000\n",
    "\n",
    "datasetExample[ datasetExample.esal > 5000 ]"
   ]
  },
  {
   "cell_type": "code",
   "execution_count": null,
   "metadata": {},
   "outputs": [],
   "source": [
    "#2. Extract only ename and department of employees whose esal is greater than 5000\n",
    "datasetExample[ datasetExample.esal > 5000 ].iloc[:,[1,4]]"
   ]
  },
  {
   "cell_type": "code",
   "execution_count": null,
   "metadata": {},
   "outputs": [],
   "source": [
    "#3. Extract those records whose sal is greater than 6500 and belongs to Ops dept\n",
    "datasetExample[ (datasetExample.esal > 6500) & (datasetExample.department == 'Ops') ]"
   ]
  },
  {
   "cell_type": "code",
   "execution_count": null,
   "metadata": {},
   "outputs": [],
   "source": [
    "#4. Display the name of employees whose salary is greater than 6500 and belongs to HR dept\n",
    "datasetExample[(datasetExample.esal > 6500) & (datasetExample.department == 'HR')].ename"
   ]
  },
  {
   "cell_type": "code",
   "execution_count": null,
   "metadata": {},
   "outputs": [],
   "source": [
    "datasetExample[(datasetExample.esal > 6500) & (datasetExample.department == 'HR')].iloc[:,[1]]"
   ]
  },
  {
   "cell_type": "code",
   "execution_count": null,
   "metadata": {},
   "outputs": [],
   "source": [
    "datasetExample"
   ]
  },
  {
   "cell_type": "code",
   "execution_count": null,
   "metadata": {},
   "outputs": [],
   "source": [
    "# Replace the salary of the employee as 7000 if the current salary is less than 1500\n",
    "# assignment"
   ]
  },
  {
   "cell_type": "markdown",
   "metadata": {},
   "source": [
    "### Operation 2 - Dealing with Duplicate Rows"
   ]
  },
  {
   "cell_type": "code",
   "execution_count": null,
   "metadata": {},
   "outputs": [],
   "source": [
    "datasetExample"
   ]
  },
  {
   "cell_type": "code",
   "execution_count": null,
   "metadata": {},
   "outputs": [],
   "source": [
    "datasetExample.drop_duplicates(inplace= True) #Designed only for duplicate rows"
   ]
  },
  {
   "cell_type": "code",
   "execution_count": null,
   "metadata": {},
   "outputs": [],
   "source": [
    "datasetExample"
   ]
  },
  {
   "cell_type": "code",
   "execution_count": null,
   "metadata": {},
   "outputs": [],
   "source": [
    "# The major demerit of DropDuplicate is the index is never reset automatically which may impact the\n",
    "# fetch cycle of the data when performing EDA or Statistical Modelling.\n",
    "# So the best practice is to reset the index as soon as DropDuplicate is performed\n",
    "# U will see next Week ;)\n"
   ]
  },
  {
   "cell_type": "markdown",
   "metadata": {},
   "source": [
    "### Operation 3: Performing  Merge Operations iN Pandas"
   ]
  },
  {
   "cell_type": "code",
   "execution_count": null,
   "metadata": {},
   "outputs": [],
   "source": [
    "dfExample1 = pd.DataFrame([[4,'QA'],[1,'HR'],[3,'Dev'],[2,'Ops']] , columns=['eid','dept'])"
   ]
  },
  {
   "cell_type": "code",
   "execution_count": null,
   "metadata": {},
   "outputs": [],
   "source": [
    "dfExample1"
   ]
  },
  {
   "cell_type": "code",
   "execution_count": null,
   "metadata": {},
   "outputs": [],
   "source": [
    "dfExample2 = pd.DataFrame([[1,'Prashant'],[2,'Gokul'],[3,'Guna']] , columns=['eid','ename'])"
   ]
  },
  {
   "cell_type": "code",
   "execution_count": null,
   "metadata": {},
   "outputs": [],
   "source": [
    "dfExample2"
   ]
  },
  {
   "cell_type": "code",
   "execution_count": null,
   "metadata": {},
   "outputs": [],
   "source": [
    "# Use-case. I want to perform Join operation of two dfs based on eid\n",
    "# We will use merge\n",
    "resultDF = pd.merge(dfExample2,dfExample1)\n",
    "resultDF\n",
    "# The merge worked in this case because both dataframe have the common column eid\n",
    "# that too with the same name"
   ]
  },
  {
   "cell_type": "code",
   "execution_count": null,
   "metadata": {},
   "outputs": [],
   "source": [
    "dept = pd.DataFrame([[4,'QA'],[1,'HR'],[3,'Dev'],[2,'Ops']] , columns=['eid','dept'])\n",
    "emp = pd.DataFrame([[1,'Prashant'],[2,'Gokul'],[3,'Guna']] , columns=['empid','ename'])"
   ]
  },
  {
   "cell_type": "code",
   "execution_count": null,
   "metadata": {},
   "outputs": [],
   "source": [
    "dept"
   ]
  },
  {
   "cell_type": "code",
   "execution_count": null,
   "metadata": {},
   "outputs": [],
   "source": [
    "emp"
   ]
  },
  {
   "cell_type": "code",
   "execution_count": null,
   "metadata": {},
   "outputs": [],
   "source": [
    "# Use-case. I want to perform Join operation of two dfs based on empid and eid resp.\n",
    "resultDF2 = pd.merge(emp,dept ,left_on='empid', right_on='eid' )\n",
    "resultDF2"
   ]
  },
  {
   "cell_type": "code",
   "execution_count": null,
   "metadata": {},
   "outputs": [],
   "source": [
    "finalAnswer = resultDF2.iloc[:,[0,1,3]]"
   ]
  },
  {
   "cell_type": "code",
   "execution_count": null,
   "metadata": {},
   "outputs": [],
   "source": [
    "finalAnswer"
   ]
  },
  {
   "cell_type": "code",
   "execution_count": null,
   "metadata": {},
   "outputs": [],
   "source": [
    "resultDF2 = pd.merge(emp,dept ,left_on='empid', right_on='eid')\n",
    "resultDF2"
   ]
  },
  {
   "cell_type": "markdown",
   "metadata": {},
   "source": [
    "### Operation 4 - Concat Operation"
   ]
  },
  {
   "cell_type": "code",
   "execution_count": null,
   "metadata": {},
   "outputs": [],
   "source": [
    "empExample = pd.DataFrame([[1,'Prashant'],[2,'Gokul'],[3,'Guna']] , columns=['empid','ename'])"
   ]
  },
  {
   "cell_type": "code",
   "execution_count": null,
   "metadata": {},
   "outputs": [],
   "source": [
    "empExample2 = pd.DataFrame([[4,'Nik'],[5,'Ashish'],[6,'Asha']] , columns=['empid','ename'])"
   ]
  },
  {
   "cell_type": "code",
   "execution_count": null,
   "metadata": {},
   "outputs": [],
   "source": [
    "empExample"
   ]
  },
  {
   "cell_type": "code",
   "execution_count": null,
   "metadata": {},
   "outputs": [],
   "source": [
    "empExample2"
   ]
  },
  {
   "cell_type": "code",
   "execution_count": null,
   "metadata": {},
   "outputs": [],
   "source": [
    "#Rowwise Concatenation --- Ensure the column names are same in all DFs.\n",
    "resultEmp = pd.concat( [empExample,empExample2] , axis = 0)\n",
    "resultEmp"
   ]
  },
  {
   "cell_type": "code",
   "execution_count": null,
   "metadata": {},
   "outputs": [],
   "source": [
    "empExample3 = pd.DataFrame([[4,'Nik'],[5,'Ashish'],[6,'Asha']] , columns=['empid','empname'])\n",
    "empExample3.columns = ['empid','ename']\n",
    "resultEmp2 = pd.concat( [empExample,empExample3] , axis = 0)\n",
    "resultEmp2"
   ]
  },
  {
   "cell_type": "code",
   "execution_count": null,
   "metadata": {},
   "outputs": [],
   "source": [
    "#Columnwise Concat\n",
    "empExample = pd.DataFrame([[1,'Prashant'],[2,'Gokul'],[3,'Guna']] , columns=['empid','ename'])\n",
    "dept = pd.DataFrame([['Mumbai','QA'],['Chennai','HR'],['Bangalore','Dev']] , columns=['ecity','dept'])\n"
   ]
  },
  {
   "cell_type": "code",
   "execution_count": null,
   "metadata": {},
   "outputs": [],
   "source": [
    "empExample"
   ]
  },
  {
   "cell_type": "code",
   "execution_count": null,
   "metadata": {},
   "outputs": [],
   "source": [
    "dept"
   ]
  },
  {
   "cell_type": "code",
   "execution_count": null,
   "metadata": {},
   "outputs": [],
   "source": [
    "#Columnwise Concatenation --- Ensure the Row Indexes are same in all DFs.\n",
    "resultEmp3 = pd.concat( [empExample,dept] , axis = 1)\n",
    "resultEmp3"
   ]
  },
  {
   "cell_type": "markdown",
   "metadata": {},
   "source": [
    "### Operation 6 --- Deletion "
   ]
  },
  {
   "cell_type": "code",
   "execution_count": null,
   "metadata": {},
   "outputs": [],
   "source": [
    "datasetExample"
   ]
  },
  {
   "cell_type": "code",
   "execution_count": null,
   "metadata": {},
   "outputs": [],
   "source": [
    "#Column Deletion (axis = 1) ---> UpdatedYearlySalary\n",
    "\n",
    "datasetExample.drop(['UpdatedSalary','UpdatedYearlySalary'] , axis = 1 , inplace=True)\n"
   ]
  },
  {
   "cell_type": "code",
   "execution_count": null,
   "metadata": {},
   "outputs": [],
   "source": [
    "?datasetExample.drop"
   ]
  },
  {
   "cell_type": "code",
   "execution_count": null,
   "metadata": {},
   "outputs": [],
   "source": [
    "datasetExample"
   ]
  },
  {
   "cell_type": "code",
   "execution_count": null,
   "metadata": {},
   "outputs": [],
   "source": [
    "#Row Deletion (axis=0)\n",
    "datasetExample.drop([5] , axis=0, inplace=True)"
   ]
  },
  {
   "cell_type": "code",
   "execution_count": null,
   "metadata": {},
   "outputs": [],
   "source": [
    "datasetExample"
   ]
  },
  {
   "cell_type": "code",
   "execution_count": null,
   "metadata": {},
   "outputs": [],
   "source": [
    "datasetExample.drop( datasetExample[datasetExample.eid == 3].index , axis=0)"
   ]
  },
  {
   "cell_type": "code",
   "execution_count": null,
   "metadata": {},
   "outputs": [],
   "source": [
    "datasetExample.iloc[:,3:6].index"
   ]
  },
  {
   "cell_type": "code",
   "execution_count": null,
   "metadata": {},
   "outputs": [],
   "source": []
  }
 ],
 "metadata": {
  "kernelspec": {
   "display_name": "Python 3",
   "language": "python",
   "name": "python3"
  },
  "language_info": {
   "codemirror_mode": {
    "name": "ipython",
    "version": 3
   },
   "file_extension": ".py",
   "mimetype": "text/x-python",
   "name": "python",
   "nbconvert_exporter": "python",
   "pygments_lexer": "ipython3",
   "version": "3.7.7"
  }
 },
 "nbformat": 4,
 "nbformat_minor": 2
}
