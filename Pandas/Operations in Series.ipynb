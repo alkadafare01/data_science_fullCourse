{
 "cells": [
  {
   "cell_type": "markdown",
   "metadata": {},
   "source": [
    "# Pandas - Operations"
   ]
  },
  {
   "cell_type": "code",
   "execution_count": null,
   "metadata": {},
   "outputs": [],
   "source": [
    "import numpy as np \n",
    "import pandas as pd"
   ]
  },
  {
   "cell_type": "code",
   "execution_count": null,
   "metadata": {},
   "outputs": [],
   "source": [
    "empWithHeaderDF = pd.read_csv(\"employeeWithHeaders.csv\", sep=',')\n",
    "empWithHeaderDF"
   ]
  },
  {
   "cell_type": "code",
   "execution_count": null,
   "metadata": {},
   "outputs": [],
   "source": [
    "#Use-case: I want to calculate the yearlySalary of the employee and add a new column called yearlySalary\n",
    "\n",
    "yearlySalary = empWithHeaderDF.esal * 12\n",
    "yearlySalary"
   ]
  },
  {
   "cell_type": "code",
   "execution_count": null,
   "metadata": {},
   "outputs": [],
   "source": [
    "type(yearlySalary)"
   ]
  },
  {
   "cell_type": "code",
   "execution_count": null,
   "metadata": {},
   "outputs": [],
   "source": [
    "#Pandas Dataframes are mutable in nature\n",
    "\n",
    "empWithHeaderDF['yearlySalary'] = yearlySalary\n",
    "empWithHeaderDF"
   ]
  },
  {
   "cell_type": "code",
   "execution_count": null,
   "metadata": {},
   "outputs": [],
   "source": [
    "# Add a new column using a collection object\n",
    "\n",
    "deptList = ['HR','Ops','','','Ops','HR']\n",
    "\n",
    "# Convert the collection object into series\n",
    "# Technique -- Load the collection as series\n",
    "\n",
    "deptSeries = pd.Series(deptList)\n",
    "\n",
    "#Add Series in dataFrame\n",
    "empWithHeaderDF['department'] = deptSeries\n",
    "empWithHeaderDF"
   ]
  },
  {
   "cell_type": "code",
   "execution_count": null,
   "metadata": {},
   "outputs": [],
   "source": [
    "# Use-case: I want to create a new column called UpdatedYearlySalary based on the following increment/hike conditions\n",
    "# If the salary is less than equal to 1500, then inc the sal by 10%\n",
    "# If the salary is between 1501 and 10000, then inc the sal by 5%\n",
    "# If the salary is between 10001 and 20000, then inc the sal by 2.5%\n",
    "# If the salary is greater than 20000 , then no inc"
   ]
  },
  {
   "cell_type": "code",
   "execution_count": null,
   "metadata": {},
   "outputs": [],
   "source": [
    "# Pandas recommends to create a Function that can implement the logic\n",
    "# and use apply method to implement function in a series"
   ]
  },
  {
   "cell_type": "code",
   "execution_count": null,
   "metadata": {},
   "outputs": [],
   "source": [
    "def incrementSalary(salary):\n",
    "    newSal = 0\n",
    "    \n",
    "    if salary <= 1500:\n",
    "        newSal = salary * 1.1\n",
    "    elif salary <= 10000:\n",
    "        newSal = salary * 1.05\n",
    "    elif salary <= 20000:\n",
    "        newSal = salary * 1.025\n",
    "    else:\n",
    "        newSal = salary\n",
    "    \n",
    "    return newSal"
   ]
  },
  {
   "cell_type": "code",
   "execution_count": null,
   "metadata": {},
   "outputs": [],
   "source": [
    "empWithHeaderDF['UpdatedYearlySalary'] = empWithHeaderDF.esal.apply(incrementSalary) * 12\n",
    "empWithHeaderDF"
   ]
  },
  {
   "cell_type": "code",
   "execution_count": null,
   "metadata": {},
   "outputs": [],
   "source": [
    "empWithHeaderDF.department = pd.Series(['HR','Ops','Admin','Admin','Ops','HR'])\n",
    "empWithHeaderDF"
   ]
  },
  {
   "cell_type": "code",
   "execution_count": null,
   "metadata": {},
   "outputs": [],
   "source": [
    "#Store the dataframe into a file\n",
    "empWithHeaderDF.to_csv('FinalOutput.csv' , index=False)"
   ]
  },
  {
   "cell_type": "code",
   "execution_count": null,
   "metadata": {},
   "outputs": [],
   "source": []
  }
 ],
 "metadata": {
  "kernelspec": {
   "display_name": "Python 3",
   "language": "python",
   "name": "python3"
  },
  "language_info": {
   "codemirror_mode": {
    "name": "ipython",
    "version": 3
   },
   "file_extension": ".py",
   "mimetype": "text/x-python",
   "name": "python",
   "nbconvert_exporter": "python",
   "pygments_lexer": "ipython3",
   "version": "3.7.7"
  }
 },
 "nbformat": 4,
 "nbformat_minor": 2
}
