{
 "cells": [
  {
   "cell_type": "markdown",
   "metadata": {},
   "source": [
    "# Pandas Basics"
   ]
  },
  {
   "cell_type": "code",
   "execution_count": null,
   "metadata": {},
   "outputs": [],
   "source": [
    "#Pandas -- Data Analysis Library\n",
    "# 1. Used extensively by Data Scientist/Data Analyst to perform EDA (Exploratory Data Analysis)\n",
    "# EDA is all about getting comfortable with the data such that you can answer any type of question\n",
    "# raised by your stakeholders / client"
   ]
  },
  {
   "cell_type": "code",
   "execution_count": null,
   "metadata": {},
   "outputs": [],
   "source": [
    "import numpy as np\n",
    "import pandas as pd"
   ]
  },
  {
   "cell_type": "code",
   "execution_count": null,
   "metadata": {},
   "outputs": [],
   "source": [
    "# The core data abstraction layer in Pandas is called a DataFrame\n",
    "# Any data that you load/initialize using Pandas will be represented in the form of DataFrame\n",
    "# To create a Dataframe, you can use the following two approach\n",
    "# 1. Create DF using collection object (list)\n",
    "# 2. Create DF by loading a file"
   ]
  },
  {
   "cell_type": "code",
   "execution_count": null,
   "metadata": {},
   "outputs": [],
   "source": [
    "#Example using list\n",
    "\n",
    "list1 = [[1,'Prashant',1000], [2,'Arun',2000]]\n",
    "\n",
    "empDataFrameFromList = pd.DataFrame(list1)\n",
    "empDataFrameFromList"
   ]
  },
  {
   "cell_type": "code",
   "execution_count": null,
   "metadata": {},
   "outputs": [],
   "source": [
    "# DataFrame data is represented using Row and Column indexes\n",
    "# You can replace Column indexes with column names\n",
    "\n",
    "empDataFrameFromList.columns = ['eid','ename','esal']\n",
    "empDataFrameFromList"
   ]
  },
  {
   "cell_type": "code",
   "execution_count": null,
   "metadata": {},
   "outputs": [],
   "source": [
    "#Variation 2:\n",
    "list2 = [[1,'Prashant',5000], [2,'Arun',8000], [3,'Aman',9899]]\n",
    "\n",
    "empDataFrameFromList2 = pd.DataFrame(list2 , columns=['empid','ename','esal'])\n",
    "empDataFrameFromList2"
   ]
  },
  {
   "cell_type": "code",
   "execution_count": null,
   "metadata": {},
   "outputs": [],
   "source": [
    "# Create DataFrame by File\n",
    "# LOad a delimited file --> Any file which has a column seperator character.\n",
    "# e.g. CSV (Comma Seperated Values), TSV (Tab Seperated Values) etc.\n",
    "\n",
    "employeeDataFrame = pd.read_csv(\"E:\\\\DataScienceSL\\\\12Aug2019DataScience\\\\Day5\\\\employee.csv\", header=None, names=['eid','ename','esal'])\n",
    "employeeDataFrame"
   ]
  },
  {
   "cell_type": "code",
   "execution_count": null,
   "metadata": {},
   "outputs": [],
   "source": [
    "?pd.read_csv"
   ]
  },
  {
   "cell_type": "code",
   "execution_count": null,
   "metadata": {},
   "outputs": [],
   "source": [
    "empWithHeaderDF = pd.read_csv(\"employeeWithHeaders.csv\", sep=',')\n",
    "empWithHeaderDF"
   ]
  },
  {
   "cell_type": "code",
   "execution_count": null,
   "metadata": {},
   "outputs": [],
   "source": [
    "#Load the data from remote path \n",
    "irisFromRemote = pd.read_csv(\"https://raw.githubusercontent.com/uiuc-cse/data-fa14/gh-pages/data/iris.csv\")\n",
    "irisFromRemote.head(5)"
   ]
  },
  {
   "cell_type": "code",
   "execution_count": null,
   "metadata": {},
   "outputs": [],
   "source": [
    "irisFromRemote.tail(5)"
   ]
  },
  {
   "cell_type": "code",
   "execution_count": null,
   "metadata": {},
   "outputs": [],
   "source": []
  }
 ],
 "metadata": {
  "kernelspec": {
   "display_name": "Python 3",
   "language": "python",
   "name": "python3"
  },
  "language_info": {
   "codemirror_mode": {
    "name": "ipython",
    "version": 3
   },
   "file_extension": ".py",
   "mimetype": "text/x-python",
   "name": "python",
   "nbconvert_exporter": "python",
   "pygments_lexer": "ipython3",
   "version": "3.7.7"
  }
 },
 "nbformat": 4,
 "nbformat_minor": 2
}
