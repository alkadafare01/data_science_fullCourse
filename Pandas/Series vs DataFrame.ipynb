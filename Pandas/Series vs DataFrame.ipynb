{
 "cells": [
  {
   "cell_type": "markdown",
   "metadata": {},
   "source": [
    "# Pandas Series"
   ]
  },
  {
   "cell_type": "code",
   "execution_count": null,
   "metadata": {},
   "outputs": [],
   "source": [
    "import numpy as np\n",
    "import pandas as pd"
   ]
  },
  {
   "cell_type": "code",
   "execution_count": null,
   "metadata": {},
   "outputs": [],
   "source": [
    "empWithHeaderDF = pd.read_csv(\"employeeWithHeaders.csv\", sep=',')\n",
    "empWithHeaderDF"
   ]
  },
  {
   "cell_type": "code",
   "execution_count": null,
   "metadata": {},
   "outputs": [],
   "source": [
    "#To get the information of the dataframe\n",
    "empWithHeaderDF.info()"
   ]
  },
  {
   "cell_type": "code",
   "execution_count": null,
   "metadata": {},
   "outputs": [],
   "source": [
    "type(empWithHeaderDF)"
   ]
  },
  {
   "cell_type": "code",
   "execution_count": null,
   "metadata": {},
   "outputs": [],
   "source": [
    "# Series in Pandas\n",
    "# Seriees is a column.Very similar to Numpy Array with dimension (X,1)\n",
    "# A set of Series forms a DataFrame"
   ]
  },
  {
   "cell_type": "code",
   "execution_count": null,
   "metadata": {},
   "outputs": [],
   "source": [
    "empWithHeaderDF.esal"
   ]
  },
  {
   "cell_type": "code",
   "execution_count": null,
   "metadata": {},
   "outputs": [],
   "source": [
    "type(empWithHeaderDF.esal)"
   ]
  },
  {
   "cell_type": "code",
   "execution_count": null,
   "metadata": {},
   "outputs": [],
   "source": [
    "# You can convert the DataFrame/Series into a Numpy Array\n",
    "\n",
    "empArray = empWithHeaderDF.values #.values convert DF into Numpy Array\n",
    "print(type(empArray))\n",
    "empArray\n",
    "\n",
    "# There will be a situation where you will need to convert DF into Numpy\n",
    "\n",
    "# Situation 1:\n",
    "\n",
    "# If you are writing a code to create Statistical Model (Machine Learning Model/Algo) in Python\n",
    "# the package that we use is Sci-kit learn(SKLEARN). SKLEARN expects your data to be in the form\n",
    "# of Numpy Array.\n",
    "\n",
    "# Situation 2:\n",
    "\n",
    "# If you want to perform Statistical Testing (Hypothesis Testing) then the formula expects your\n",
    "# data to be either in the form of Matrix or in the form of ndarray (Numpy)\n",
    "\n",
    "# Situation 3:\n",
    "\n",
    "# To implement Deep Learning Neural Networks your data must be represented in the form of Numpy\n",
    "\n",
    "\n",
    "# Your plan of action will be\n",
    "# 1. Load the data from file using Pandas\n",
    "# 2. Ensure your dataset is in compliance with the next process( Statistical Modelling, Statistical Testing, NN creation)\n",
    "# 3. Convert the dataframe into Numpy Array\n",
    "# 4. Implement  Statistical Modelling, Statistical Testing, NN creation"
   ]
  },
  {
   "cell_type": "code",
   "execution_count": null,
   "metadata": {},
   "outputs": [],
   "source": [
    "# Even reverse is possible\n",
    "pd.DataFrame(empArray , columns=['eid','ename','esal'])"
   ]
  },
  {
   "cell_type": "code",
   "execution_count": null,
   "metadata": {},
   "outputs": [],
   "source": []
  }
 ],
 "metadata": {
  "kernelspec": {
   "display_name": "Python 3",
   "language": "python",
   "name": "python3"
  },
  "language_info": {
   "codemirror_mode": {
    "name": "ipython",
    "version": 3
   },
   "file_extension": ".py",
   "mimetype": "text/x-python",
   "name": "python",
   "nbconvert_exporter": "python",
   "pygments_lexer": "ipython3",
   "version": "3.7.7"
  }
 },
 "nbformat": 4,
 "nbformat_minor": 2
}
