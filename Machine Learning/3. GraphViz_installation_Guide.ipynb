{
 "cells": [
  {
   "cell_type": "markdown",
   "metadata": {},
   "source": [
    "** Set of steps to be followed for getting below visual**\n",
    "* Install GraphZiz windows utility from [link](https://graphviz.gitlab.io/_pages/Download/Download_windows.html)\n",
    "* Add bin folder from installed directory to path variable.\n",
    "* Install GraphViz python library using command **conda install -c anaconda graphviz**\n",
    "* Install PyDotPlus python library using command **conda install -c conda-forge pydotplus**\n",
    "\n",
    "Check below link for more detailed information ([Link](https://stackoverflow.com/a/36869259))"
   ]
  }
 ],
 "metadata": {
  "kernelspec": {
   "display_name": "Python 3",
   "language": "python",
   "name": "python3"
  },
  "language_info": {
   "codemirror_mode": {
    "name": "ipython",
    "version": 3
   },
   "file_extension": ".py",
   "mimetype": "text/x-python",
   "name": "python",
   "nbconvert_exporter": "python",
   "pygments_lexer": "ipython3",
   "version": "3.7.7"
  }
 },
 "nbformat": 4,
 "nbformat_minor": 2
}
