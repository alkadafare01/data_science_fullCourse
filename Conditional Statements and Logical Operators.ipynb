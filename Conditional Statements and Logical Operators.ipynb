{
 "cells": [
  {
   "cell_type": "code",
   "execution_count": null,
   "metadata": {
    "colab": {},
    "colab_type": "code",
    "id": "7yCwpiWiwE0d"
   },
   "outputs": [],
   "source": [
    "# Python ideally supports 4 statements\n",
    "# 1. if statement\n",
    "# 2. if..else statement\n",
    "# 3. elif ladder\n",
    "# 4. Ternary Operator\n",
    "\n",
    "# Used to specify a condition to perform an action"
   ]
  },
  {
   "cell_type": "code",
   "execution_count": null,
   "metadata": {
    "colab": {},
    "colab_type": "code",
    "id": "ZjlACR-fwE0n"
   },
   "outputs": [],
   "source": [
    "# Comparison Operators\n",
    "# >          -- Greater than\n",
    "# <          -- Less than\n",
    "# >=         -- Greater than equal to \n",
    "# <=         -- less than equal to \n",
    "# !          -- not\n",
    "# !=         -- not equal to\n",
    "# ==         -- equal to "
   ]
  },
  {
   "cell_type": "code",
   "execution_count": null,
   "metadata": {
    "colab": {},
    "colab_type": "code",
    "id": "GbXte7QOwE1s",
    "outputId": "0ea3ba96-018c-4e0e-8c9d-32d5f4c622c6"
   },
   "outputs": [],
   "source": [
    "# if statement --- You can pass only one condition\n",
    "temp = 50 \n",
    "\n",
    "if temp > 30:\n",
    "    #Indentation\n",
    "    print(\"High Temp\")"
   ]
  },
  {
   "cell_type": "code",
   "execution_count": null,
   "metadata": {
    "colab": {},
    "colab_type": "code",
    "id": "mmXxNkrjwE13",
    "outputId": "34a84539-063a-4840-af5b-c96de8285015"
   },
   "outputs": [],
   "source": [
    "# if ..else statement---- You can have one true condition and one default condition\n",
    "\n",
    "temp = 20 \n",
    "\n",
    "if temp > 30:\n",
    "    print(\"High Temp\")\n",
    "else:\n",
    "    print(\"Low Temp\")\n"
   ]
  },
  {
   "cell_type": "code",
   "execution_count": null,
   "metadata": {
    "colab": {},
    "colab_type": "code",
    "id": "nC30HSlqwE8J"
   },
   "outputs": [],
   "source": [
    "#Assignment - Covert the above two code into user interaction code\n",
    "\n"
   ]
  },
  {
   "cell_type": "code",
   "execution_count": null,
   "metadata": {
    "colab": {},
    "colab_type": "code",
    "id": "T6rxPLjfwE8S",
    "outputId": "fe509e3c-c137-424e-c937-000d80b480c2"
   },
   "outputs": [],
   "source": [
    "#elif ladder ---> When you have multiple true conditions and one default condition\n",
    "\n",
    "temp = 50 \n",
    "\n",
    "if temp > 30 and temp < 40:\n",
    "    print(\"High Temp\")\n",
    "elif temp >= 40 and temp < 50:\n",
    "    print(\"Bursting Temp\")\n",
    "elif temp >= 50 and temp < 60:\n",
    "    print(\"Bursting Temp 1\")\n",
    "elif temp >= 60:\n",
    "    print(\"Bursting Temp 2\")\n",
    "else:\n",
    "    print(\"Low Temp\")"
   ]
  },
  {
   "cell_type": "code",
   "execution_count": null,
   "metadata": {
    "colab": {},
    "colab_type": "code",
    "id": "iGDAqlVnwFAy",
    "outputId": "76d1382d-104c-4aa2-f58f-794e24fd7c7f"
   },
   "outputs": [],
   "source": [
    "# Accept a number from the user and print whether the number is EVEN or ODD\n",
    "\n",
    "#Logic: Number must be divisible by 2 (The remainder must be zero)\n",
    "\n",
    "number = int(input(\"Enter your number: \"))\n",
    "\n",
    "if number % 2 == 0: #Checking whether the remainder is 2 or not\n",
    "    print(\"Even Number\")\n",
    "    print(\"Given number {} is an Even Number\".format(number))\n",
    "else:\n",
    "    print(\"Odd Number\")\n",
    "    print(\"Given number {} is an Odd Number\".format(number))\n",
    "\n"
   ]
  },
  {
   "cell_type": "code",
   "execution_count": null,
   "metadata": {
    "colab": {},
    "colab_type": "code",
    "id": "XD6askwUwFBE",
    "outputId": "aa88740d-a09a-4f45-f7e6-d73867fd0b92"
   },
   "outputs": [],
   "source": [
    "#Ternary operator | replacement of ifelse\n",
    "\n",
    "number = int(input(\"Enter your number: \"))\n",
    "\n",
    "result = \"Even Number\" if number % 2 == 0 else \"Odd Number\"\n",
    "result"
   ]
  },
  {
   "cell_type": "code",
   "execution_count": null,
   "metadata": {
    "colab": {},
    "colab_type": "code",
    "id": "Sjtrnra4wFBV",
    "outputId": "33503e49-de24-40d8-a7b9-775259b22cb2"
   },
   "outputs": [],
   "source": [
    "number = int(input(\"Enter your number: \"))\n",
    "result2 = \"Given number {} is an Even Number\".format(number) if number % 2 == 0 else \"Given number {} is an Odd Number\".format(number)\n",
    "result2"
   ]
  },
  {
   "cell_type": "code",
   "execution_count": null,
   "metadata": {
    "colab": {},
    "colab_type": "code",
    "id": "QXWSffe0wFTU"
   },
   "outputs": [],
   "source": [
    "#Fun time :)\n",
    "#Extract 22 from data1 !!!"
   ]
  },
  {
   "cell_type": "code",
   "execution_count": null,
   "metadata": {
    "colab": {},
    "colab_type": "code",
    "id": "Trr8W5g5wFTg"
   },
   "outputs": [],
   "source": [
    "data1 = {'data' : [1,2,3,[7,8,9],10, {'city':['Mumbai','Chennai','Bangalore',{'code':[11,22,33]}]}]}"
   ]
  },
  {
   "cell_type": "code",
   "execution_count": null,
   "metadata": {
    "colab": {},
    "colab_type": "code",
    "id": "nM9ft4S7wFT2",
    "outputId": "bacf894c-4943-4b52-d1f6-ca7dfa22dc81"
   },
   "outputs": [],
   "source": [
    "type(data1)"
   ]
  },
  {
   "cell_type": "code",
   "execution_count": null,
   "metadata": {
    "colab": {},
    "colab_type": "code",
    "id": "-1Vg7BGCwFUQ",
    "outputId": "014480db-93cd-4bbe-e334-83e798fbf97f"
   },
   "outputs": [],
   "source": [
    "data1['data'][5]['city'][3]['code'][1]"
   ]
  },
  {
   "cell_type": "code",
   "execution_count": null,
   "metadata": {
    "colab": {},
    "colab_type": "code",
    "id": "o0dUadjrwFUY"
   },
   "outputs": [],
   "source": [
    "# Logical Operators\n",
    "#\n",
    "# and\n",
    "# or\n",
    "# not"
   ]
  },
  {
   "cell_type": "code",
   "execution_count": null,
   "metadata": {
    "colab": {},
    "colab_type": "code",
    "id": "sLMQghKDwFUf",
    "outputId": "52102774-1ce8-481a-d499-2a53fd3ad129"
   },
   "outputs": [],
   "source": [
    "#Loan Eligibility Check\n",
    "\n",
    "# Truth Table (and)\n",
    "# condition1  condition2  result\n",
    "#   True        True       True\n",
    "#   False       True       False\n",
    "#   True        False      False\n",
    "#   False       False      False\n",
    "\n",
    "# For And all conditions must be true\n",
    "\n",
    "income = 7000\n",
    "creditScore = 701\n",
    "\n",
    "if income > 8000 and creditScore > 700:\n",
    "    print(\"Eligible\")\n",
    "else:\n",
    "    print(\"Not Eligible\")\n",
    "    "
   ]
  },
  {
   "cell_type": "code",
   "execution_count": null,
   "metadata": {
    "colab": {},
    "colab_type": "code",
    "id": "w-cJkbErwFb8",
    "outputId": "d530076d-a636-4bee-89af-8ff40918fbf1"
   },
   "outputs": [],
   "source": [
    "# Truth Table (or)\n",
    "# condition1  condition2  result\n",
    "#   True        True       True\n",
    "#   False       True       True\n",
    "#   True        False      True\n",
    "#   False       False      False\n",
    "\n",
    "# For or any one conditions must be true\n",
    "\n",
    "income = 7000\n",
    "creditScore = 701\n",
    "\n",
    "if income > 8000 or creditScore > 700:\n",
    "    print(\"Eligible\")\n",
    "else:\n",
    "    print(\"Not Eligible\")"
   ]
  },
  {
   "cell_type": "code",
   "execution_count": null,
   "metadata": {
    "colab": {},
    "colab_type": "code",
    "id": "90p5Vs0-wFcB",
    "outputId": "2af265b9-7c1a-43d5-c2c7-df6bfc968b45"
   },
   "outputs": [],
   "source": [
    "#Not operator\n",
    "# True --> not ---> False\n",
    "# False --> not --> true\n",
    "\n",
    "income = 7000\n",
    "creditScore = 701\n",
    "isStudent = True\n",
    "\n",
    "if not isStudent:\n",
    "    if income > 8000 or creditScore > 700:\n",
    "        print(\"Eligible\")\n",
    "    else:\n",
    "        print(\"Not Eligible\")\n",
    "else:\n",
    "    print(\"Students are not eligible for LOAN\")"
   ]
  },
  {
   "cell_type": "code",
   "execution_count": null,
   "metadata": {
    "colab": {},
    "colab_type": "code",
    "id": "xHQJ8Rc6wFcI",
    "outputId": "1c6610a0-056d-45d0-d5ce-15b1cbabb500"
   },
   "outputs": [],
   "source": [
    "# Example\n",
    "age1 = 10\n",
    "if age1 >= 18 and age1 <= 32:\n",
    "    print(\"Eligible for IAS exam\")\n",
    "else:\n",
    "    print(\"Not Eligible\")"
   ]
  },
  {
   "cell_type": "code",
   "execution_count": null,
   "metadata": {
    "colab": {},
    "colab_type": "code",
    "id": "uKTwT-8EwFcS",
    "outputId": "0b1ad1fd-51a2-4c5b-e038-e952142b500a"
   },
   "outputs": [],
   "source": [
    "# Chaining Operator\n",
    "age=19\n",
    "if 18 <= age <=32 :\n",
    "    print(\"Eligible for IAS exam\")\n",
    "else:\n",
    "    print(\"Not Eligible\")"
   ]
  },
  {
   "cell_type": "code",
   "execution_count": null,
   "metadata": {
    "colab": {},
    "colab_type": "code",
    "id": "Lp-ot3jLwFcY"
   },
   "outputs": [],
   "source": [
    "a = [1,2,3,[4,5,[6]]]"
   ]
  },
  {
   "cell_type": "code",
   "execution_count": null,
   "metadata": {
    "colab": {},
    "colab_type": "code",
    "id": "v5qCnUzPwFfC",
    "outputId": "6f80c940-c8ad-47e2-ece1-920fe565951d"
   },
   "outputs": [],
   "source": [
    "len(a)"
   ]
  },
  {
   "cell_type": "code",
   "execution_count": null,
   "metadata": {
    "colab": {},
    "colab_type": "code",
    "id": "6XiO9HhXwFfZ"
   },
   "outputs": [],
   "source": []
  }
 ],
 "metadata": {
  "colab": {
   "name": "3. Conditional Statements and Logical Operators.ipynb",
   "provenance": []
  },
  "kernelspec": {
   "display_name": "Python 3",
   "language": "python",
   "name": "python3"
  },
  "language_info": {
   "codemirror_mode": {
    "name": "ipython",
    "version": 3
   },
   "file_extension": ".py",
   "mimetype": "text/x-python",
   "name": "python",
   "nbconvert_exporter": "python",
   "pygments_lexer": "ipython3",
   "version": "3.7.7"
  }
 },
 "nbformat": 4,
 "nbformat_minor": 1
}
