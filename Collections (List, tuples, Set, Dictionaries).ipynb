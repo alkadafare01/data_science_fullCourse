{
 "cells": [
  {
   "cell_type": "code",
   "execution_count": null,
   "metadata": {
    "colab": {},
    "colab_type": "code",
    "id": "72DVPIQbwISf"
   },
   "outputs": [],
   "source": [
    "# Collections\n",
    "# Collections are objects(variable) that can holds more than one constant\n",
    "#\n",
    "# Some of the collections supported by Python is:\n",
    "# 1. List\n",
    "# 2. Dictionaries\n",
    "# 3. Tuples\n",
    "# 4. Set\n",
    "#\n",
    "# When it comes to variables and collections in Python, there exists two forms of collections\n",
    "# 1. Mutable Collections\n",
    "#    They are those collections which allow you to change the data at any point in time\n",
    "#    Mutable collections are useful in a situation where you will be reusing your memory for operations\n",
    "#  \n",
    "# 2. Immutable Collections\n",
    "#    They are those collections which once loaded, cannot be changed at any point in time\n",
    "#    Immutable is useful in a situation where you want to ensure the data will never change either by user or by system"
   ]
  },
  {
   "cell_type": "code",
   "execution_count": null,
   "metadata": {
    "colab": {},
    "colab_type": "code",
    "id": "a0E2VgtOwITD",
    "outputId": "50212206-a04c-4efe-f251-979d3c535177"
   },
   "outputs": [],
   "source": [
    "# List\n",
    "# List are mutable collection . Mutable means once created, you can modify the same\n",
    "\n",
    "a = [1,2,3,4,5] #In python you can create a list using square brackets -- []\n",
    "a"
   ]
  },
  {
   "cell_type": "code",
   "execution_count": null,
   "metadata": {
    "colab": {},
    "colab_type": "code",
    "id": "fChOLbzGwITO",
    "outputId": "5dd4b19e-e302-40d9-a2e8-f2d9f6f9a145"
   },
   "outputs": [],
   "source": [
    "type(a)"
   ]
  },
  {
   "cell_type": "code",
   "execution_count": null,
   "metadata": {
    "colab": {},
    "colab_type": "code",
    "id": "whidqnBGwITT",
    "outputId": "e77b5ce8-9ea7-48ec-d650-7207ccffba48"
   },
   "outputs": [],
   "source": [
    "# List can hold heterogenous data in the collection.\n",
    "\n",
    "b = ['hello', 3,4 ,5.6, 8.3, 5j, \"Welcome to my world of Data Science\", [1,2,3]]\n",
    "b"
   ]
  },
  {
   "cell_type": "code",
   "execution_count": null,
   "metadata": {
    "colab": {},
    "colab_type": "code",
    "id": "8QtLmmi-wITd"
   },
   "outputs": [],
   "source": [
    "# How to extract data from the list | traverse the list\n",
    "\n",
    "a = [3,2,5,72,21,68,23,5,73,256,22,56,90]\n",
    "#----0,1,2,3 ,4 , 5, 6,7, 8, 9, 10,11,12   (Index)"
   ]
  },
  {
   "cell_type": "code",
   "execution_count": null,
   "metadata": {
    "colab": {},
    "colab_type": "code",
    "id": "OSXXB-cSwIX_",
    "outputId": "be2d0660-1786-4c54-b380-4d698e7ab855"
   },
   "outputs": [],
   "source": [
    "# To extract a single element you can use the index location of the list\n",
    "#Eg. 1 -- Extract 23\n",
    "a[6]   # Means extracting the value of index location 6"
   ]
  },
  {
   "cell_type": "code",
   "execution_count": null,
   "metadata": {
    "colab": {},
    "colab_type": "code",
    "id": "dos7OhhQwIhr",
    "outputId": "90f92c02-1adb-4cfa-aeb2-449517cff478"
   },
   "outputs": [],
   "source": [
    "a[9]"
   ]
  },
  {
   "cell_type": "code",
   "execution_count": null,
   "metadata": {
    "colab": {},
    "colab_type": "code",
    "id": "H5S8ijIYwIh0",
    "outputId": "9d617d1e-d407-4c63-9b13-bf1f58de50e0"
   },
   "outputs": [],
   "source": [
    "# How many elements are there in the list\n",
    "len(a)   #Defines the length of the list"
   ]
  },
  {
   "cell_type": "code",
   "execution_count": null,
   "metadata": {
    "colab": {},
    "colab_type": "code",
    "id": "oG8qul4EwIh6",
    "outputId": "d65ead81-97b5-44f0-b508-5a4c6c5b75a2"
   },
   "outputs": [],
   "source": [
    "# Extract data [21,68,23,5,73]\n",
    "# We can observe that the data is in a series(continuty)\n",
    "# If your data is in series, you can extract the same using range syntax\n",
    "\n",
    "a = [3,2,5,72,21,68,23,5,73,256,22,56,90]\n",
    "\n",
    "#range syntax\n",
    "# collection_name[start_index : upper_bound]\n",
    "#\n",
    "# Where,\n",
    "#  start_index is the start location from where the data needs to be fetched\n",
    "#  upper_bound = end_index + 1\n",
    "\n",
    "a[4:9]"
   ]
  },
  {
   "cell_type": "code",
   "execution_count": null,
   "metadata": {
    "colab": {},
    "colab_type": "code",
    "id": "2qhoXf4-wImM",
    "outputId": "7c90c3be-f3d1-4d39-8ab8-2e183af3e293"
   },
   "outputs": [],
   "source": [
    "a = [3,2,5,72,21,68,23,5,73,256,22,56,90]\n",
    "#\n",
    "#Extract [256,22,56]\n",
    "\n",
    "a[9:12]"
   ]
  },
  {
   "cell_type": "code",
   "execution_count": null,
   "metadata": {
    "colab": {},
    "colab_type": "code",
    "id": "2YUMoI7ewIp8",
    "outputId": "c800aebc-468e-4902-e316-af610702dc84"
   },
   "outputs": [],
   "source": [
    "# Nested List\n",
    "#\n",
    "example1 = [1,2,3,[4,5,6,[7,8,9,[10,11]]]]\n",
    "\n",
    "len(example1)\n"
   ]
  },
  {
   "cell_type": "code",
   "execution_count": null,
   "metadata": {
    "colab": {},
    "colab_type": "code",
    "id": "2NKaU4gZwIqI",
    "outputId": "fe073db1-f20c-43eb-da80-3a48bddefbdc"
   },
   "outputs": [],
   "source": [
    "example1[3][2]"
   ]
  },
  {
   "cell_type": "code",
   "execution_count": null,
   "metadata": {
    "colab": {},
    "colab_type": "code",
    "id": "DmT95VecwIqT",
    "outputId": "576dd3ac-fd9a-4c41-e921-1a665f3865fb"
   },
   "outputs": [],
   "source": [
    "#10\n",
    "example1[3][3][3][0]"
   ]
  },
  {
   "cell_type": "code",
   "execution_count": null,
   "metadata": {
    "colab": {},
    "colab_type": "code",
    "id": "1dukL0QRwIqZ",
    "outputId": "dc0f084c-76ad-424c-c4b3-a7652d7bdbdb"
   },
   "outputs": [],
   "source": [
    "example2 = [[1,2,3],['Anand',['Raghav',[7,8,9,0,['Aman',['Kumar','Joe']]]]]]\n",
    "#Extract Joe\n",
    "example2[1][1][1][4][1][1]"
   ]
  },
  {
   "cell_type": "code",
   "execution_count": null,
   "metadata": {
    "colab": {},
    "colab_type": "code",
    "id": "WfDt15fbwIqk"
   },
   "outputs": [],
   "source": [
    "# Modify the elements in the list\n",
    "a = [3,2,5,72,21,68,23,5,73,256,22,56,90]\n",
    "\n",
    "# replace 90 with 'Prashant'\n",
    "\n",
    "a[12] = 'Prashant' #Supported by list . List is mutable"
   ]
  },
  {
   "cell_type": "code",
   "execution_count": null,
   "metadata": {
    "colab": {},
    "colab_type": "code",
    "id": "o_pZMH11wIqv",
    "outputId": "789fd624-0cad-4eae-f799-7af4b3b25cc1"
   },
   "outputs": [],
   "source": [
    "a"
   ]
  },
  {
   "cell_type": "code",
   "execution_count": null,
   "metadata": {
    "colab": {},
    "colab_type": "code",
    "id": "oHXtT4LzwIt8",
    "outputId": "c84e9c2d-e680-4477-f107-0c985f19b9fb"
   },
   "outputs": [],
   "source": [
    "# replace 23 with 203\n",
    "a[6] = 203\n",
    "a"
   ]
  },
  {
   "cell_type": "code",
   "execution_count": null,
   "metadata": {
    "colab": {},
    "colab_type": "code",
    "id": "Yds5L-cfwIuD"
   },
   "outputs": [],
   "source": [
    "# replace 5 with 'Nikit'\n",
    "a[2]='Nikit'"
   ]
  },
  {
   "cell_type": "code",
   "execution_count": null,
   "metadata": {
    "colab": {},
    "colab_type": "code",
    "id": "u-42cM8FwIuo",
    "outputId": "41918afe-85ba-4fd0-f806-e8b00520b950"
   },
   "outputs": [],
   "source": [
    "a"
   ]
  },
  {
   "cell_type": "code",
   "execution_count": null,
   "metadata": {
    "colab": {},
    "colab_type": "code",
    "id": "XZa4CLTEwIux",
    "outputId": "329daf14-40dd-4592-92f2-498942b43775"
   },
   "outputs": [],
   "source": [
    "#Search Operation in list\n",
    "# What in Where(collection)\n",
    "78 in a"
   ]
  },
  {
   "cell_type": "code",
   "execution_count": null,
   "metadata": {
    "colab": {},
    "colab_type": "code",
    "id": "chbDTT0-wI1V"
   },
   "outputs": [],
   "source": [
    "#To learn more about Python Basics\n",
    "# https://www.w3schools.com/python/python_variables.asp\n",
    "\n",
    "#To get solved exercises for practice\n",
    "# https://www.w3resource.com/python-exercises"
   ]
  },
  {
   "cell_type": "code",
   "execution_count": null,
   "metadata": {
    "colab": {},
    "colab_type": "code",
    "id": "VcF4sG93wI1n",
    "outputId": "a963cdc9-2483-4cbf-d2bc-2fcb12258fb1"
   },
   "outputs": [],
   "source": [
    "#Tuples --- Round Bracket\n",
    "# Tuples are immutable collection\n",
    "\n",
    "a = (1,2,3,4)\n",
    "a"
   ]
  },
  {
   "cell_type": "code",
   "execution_count": null,
   "metadata": {
    "colab": {},
    "colab_type": "code",
    "id": "cc9SL--cwI11",
    "outputId": "68b82be4-6bee-492d-c2f2-c3b2e74024ee"
   },
   "outputs": [],
   "source": [
    "type(a)"
   ]
  },
  {
   "cell_type": "code",
   "execution_count": null,
   "metadata": {
    "colab": {},
    "colab_type": "code",
    "id": "rGc3SwS8wI18",
    "outputId": "08ac9bc4-e32e-439c-b85a-7c745b03815a"
   },
   "outputs": [],
   "source": [
    "a[1]"
   ]
  },
  {
   "cell_type": "code",
   "execution_count": null,
   "metadata": {
    "colab": {},
    "colab_type": "code",
    "id": "vw6foa4ewI2j",
    "outputId": "54d1c3a7-ed86-4132-c95c-a66a5ce72c92"
   },
   "outputs": [],
   "source": [
    "a[1:3]"
   ]
  },
  {
   "cell_type": "code",
   "execution_count": null,
   "metadata": {
    "colab": {},
    "colab_type": "code",
    "id": "VQ2JRfsMwI5x",
    "outputId": "0fc00b05-ae34-4ec9-be20-5188e10a2e35"
   },
   "outputs": [],
   "source": [
    "4 in a"
   ]
  },
  {
   "cell_type": "code",
   "execution_count": null,
   "metadata": {
    "colab": {},
    "colab_type": "code",
    "id": "vsojRGBkwI56",
    "outputId": "4c6c0ddf-ce36-409b-d3d2-266bbc97747a"
   },
   "outputs": [],
   "source": [
    "a[1] = 'Prashant' #Immutable"
   ]
  },
  {
   "cell_type": "code",
   "execution_count": null,
   "metadata": {
    "colab": {},
    "colab_type": "code",
    "id": "FFqxCv0NwI6F",
    "outputId": "f85636a4-0340-444b-adb6-8041449c47e2"
   },
   "outputs": [],
   "source": [
    "# Set - Curly bracket\n",
    "# Set is a collection that holds only unique values\n",
    "\n",
    "a = {1,2,3,4,4,4,4,4,5,5,5,5,5,1,1,1}\n",
    "a"
   ]
  },
  {
   "cell_type": "code",
   "execution_count": null,
   "metadata": {
    "colab": {},
    "colab_type": "code",
    "id": "7UKfWpg8wI7w",
    "outputId": "c87c245e-2a06-482f-9964-5df4d66043a7"
   },
   "outputs": [],
   "source": [
    "type(a)"
   ]
  },
  {
   "cell_type": "code",
   "execution_count": null,
   "metadata": {
    "colab": {},
    "colab_type": "code",
    "id": "o_59OS6_wI74",
    "outputId": "64d3c09d-d77e-4f68-df64-43e84410b874"
   },
   "outputs": [],
   "source": [
    "#Set doesnt allow to access elements directly.\n",
    "#Strategy: Typecast the set into list\n",
    "\n",
    "list(a)[0]"
   ]
  },
  {
   "cell_type": "code",
   "execution_count": null,
   "metadata": {
    "colab": {},
    "colab_type": "code",
    "id": "JJrg0apcwI92"
   },
   "outputs": [],
   "source": [
    "# Dictionary -- curly bracket\n",
    "# Data is represented in the for Key,Value pair\n",
    "#\n",
    "# key:value\n",
    "#\n",
    "# lookup dictionary, lookup table, K,V pairs,  IndexReference Layer\n",
    "\n",
    "stateAndCapitals = {'Maharashtra' : 'Mumbai',\n",
    "                   'Goa' : 'Panjim',\n",
    "                   'Karnataka': 'Bengaluru',\n",
    "                   'Kerala': 'Trivandrum'}"
   ]
  },
  {
   "cell_type": "code",
   "execution_count": null,
   "metadata": {
    "colab": {},
    "colab_type": "code",
    "id": "is2cuYkzwI-E",
    "outputId": "ea3e5083-0565-42be-c4f3-211e208c8b3c"
   },
   "outputs": [],
   "source": [
    "stateAndCapitals #Dict by default maintains the data in sorted manner based on key part of the data"
   ]
  },
  {
   "cell_type": "code",
   "execution_count": null,
   "metadata": {
    "colab": {},
    "colab_type": "code",
    "id": "ksElJ8mewI_C",
    "outputId": "f601dc68-1b42-4656-d211-847b4fac177c"
   },
   "outputs": [],
   "source": [
    "type(stateAndCapitals)"
   ]
  },
  {
   "cell_type": "code",
   "execution_count": null,
   "metadata": {
    "colab": {},
    "colab_type": "code",
    "id": "DVzBmd9OwJAx",
    "outputId": "50a9103f-5401-4e15-b6e7-2c81c748e668"
   },
   "outputs": [],
   "source": [
    "#To extract data from dictionary, we need to use key\n",
    "stateAndCapitals['Goa']"
   ]
  },
  {
   "cell_type": "code",
   "execution_count": null,
   "metadata": {
    "colab": {},
    "colab_type": "code",
    "id": "J_46ZFKqwJA5"
   },
   "outputs": [],
   "source": [
    "stateAndCapitals['TamilNadu'] = 'Chennai'"
   ]
  },
  {
   "cell_type": "code",
   "execution_count": null,
   "metadata": {
    "colab": {},
    "colab_type": "code",
    "id": "PDGRP8KpwJBB",
    "outputId": "d0fc9271-e18a-43f3-9cc2-f861889eabef"
   },
   "outputs": [],
   "source": [
    "stateAndCapitals"
   ]
  },
  {
   "cell_type": "code",
   "execution_count": null,
   "metadata": {
    "colab": {},
    "colab_type": "code",
    "id": "Zjf6aNhmwJBK"
   },
   "outputs": [],
   "source": []
  }
 ],
 "metadata": {
  "colab": {
   "name": "2. Collections (List, tuples, Set, Dictionaries).ipynb",
   "provenance": []
  },
  "kernelspec": {
   "display_name": "Python 2",
   "language": "python",
   "name": "python2"
  },
  "language_info": {
   "codemirror_mode": {
    "name": "ipython",
    "version": 2
   },
   "file_extension": ".py",
   "mimetype": "text/x-python",
   "name": "python",
   "nbconvert_exporter": "python",
   "pygments_lexer": "ipython2",
   "version": "2.7.16"
  }
 },
 "nbformat": 4,
 "nbformat_minor": 1
}
