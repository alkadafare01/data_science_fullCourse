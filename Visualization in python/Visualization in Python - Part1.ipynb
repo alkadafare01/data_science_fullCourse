{
 "cells": [
  {
   "cell_type": "markdown",
   "metadata": {},
   "source": [
    "# Visualization in Python - Matplotlib"
   ]
  },
  {
   "cell_type": "markdown",
   "metadata": {},
   "source": [
    "Below are important libraries in Python used for visualization \n",
    "* __[Matplotlib](https://matplotlib.org/)__\n",
    "* __[Seaborn](https://seaborn.pydata.org/)__\n",
    "* __[ggplot](http://ggplot.yhathq.com/)__\n",
    "* __[Bokeh](https://bokeh.pydata.org/en/latest/)__\n",
    "* __[Plotly](https://plot.ly/python/)__"
   ]
  },
  {
   "cell_type": "markdown",
   "metadata": {},
   "source": [
    "**Matplotlib** is the core visualization library in Python. **Seaborn** uses Matplotlib as base library. <br>\n",
    "**ggplot** is the core library from R language, it gives similar functionality in Python. <br>\n",
    "**Plotly** and **Bokeh** are two advaced library with interactive visualiztion as added feature."
   ]
  },
  {
   "cell_type": "markdown",
   "metadata": {},
   "source": [
    "# Matplotlib\n",
    "\n",
    "<br>Matplotlib tries to make easy things easy and hard things possible. You can generate plots, histograms, power spectra, bar charts, errorcharts, scatterplots, etc., with just a few lines of code. \n",
    "\n",
    "<br>  1. Generally easy to get started for simple plots\n",
    "<br>  2. Support for custom labels and texts\n",
    "<br>  3. Great control of every element in a figure\n",
    "<br>  4. High-quality output in many formats\n",
    "<br>  5. Very customizable in general\n"
   ]
  },
  {
   "cell_type": "markdown",
   "metadata": {},
   "source": [
    "<img src=\"pic_thousand_words.jpg\">"
   ]
  },
  {
   "cell_type": "code",
   "execution_count": 4,
   "metadata": {},
   "outputs": [],
   "source": [
    "import matplotlib.pyplot as plt\n",
    "%matplotlib inline"
   ]
  },
  {
   "cell_type": "code",
   "execution_count": null,
   "metadata": {},
   "outputs": [],
   "source": [
    "avg_monthly_rain=[0,0,1,12,113,868,995,513,252,125,31,17]\n",
    "month=list(range(1,13))"
   ]
  },
  {
   "cell_type": "code",
   "execution_count": null,
   "metadata": {},
   "outputs": [],
   "source": [
    "plt.plot(month,avg_monthly_rain)"
   ]
  },
  {
   "cell_type": "markdown",
   "metadata": {},
   "source": [
    "#### API -> https://matplotlib.org/api/_as_gen/matplotlib.pyplot.plot.html#matplotlib.pyplot.plot"
   ]
  },
  {
   "cell_type": "code",
   "execution_count": null,
   "metadata": {},
   "outputs": [],
   "source": [
    "plt.xlabel('Months')\n",
    "plt.ylabel('Rainfall (in mm)')\n",
    "plt.title('Monthly Rainfall Trend in Goa')\n",
    "#plt.plot(month,avg_monthly_rain,linewidth=5, linestyle='dotted')\n",
    "plt.plot(month,avg_monthly_rain,linewidth=5)"
   ]
  },
  {
   "cell_type": "code",
   "execution_count": null,
   "metadata": {},
   "outputs": [],
   "source": [
    "max_rain=[15,10,19,32,213,968,1195,613,352,225,71,47]"
   ]
  },
  {
   "cell_type": "code",
   "execution_count": null,
   "metadata": {},
   "outputs": [],
   "source": [
    "plt.xlabel('Months')\n",
    "plt.ylabel('Rainfall (in mm)')\n",
    "plt.title('Monthly Rainfall Trend in Goa')\n",
    "plt.plot(month,max_rain,linewidth=5, color='green')\n",
    "plt.plot(month,avg_monthly_rain,linewidth=7);"
   ]
  },
  {
   "cell_type": "code",
   "execution_count": null,
   "metadata": {},
   "outputs": [],
   "source": [
    "plt.xlabel('Months')\n",
    "plt.ylabel('Rainfall (in mm)')\n",
    "plt.title('Monthly Rainfall Trend in Goa')\n",
    "plt.plot(month,max_rain,linewidth=5, color='green',label='Maximum Rain')\n",
    "plt.plot(month,avg_monthly_rain,linewidth=7,label='Average Rain')"
   ]
  },
  {
   "cell_type": "code",
   "execution_count": null,
   "metadata": {},
   "outputs": [],
   "source": [
    "plt.xlabel('Months')\n",
    "plt.ylabel('Rainfall (in mm)')\n",
    "plt.title('Monthly Rainfall Trend in Goa')\n",
    "plt.plot(month,max_rain,linewidth=5, color='green',label='Maximum Rain')\n",
    "plt.plot(month,avg_monthly_rain,linewidth=7,label='Average Rain')\n",
    "plt.legend()"
   ]
  },
  {
   "cell_type": "code",
   "execution_count": null,
   "metadata": {},
   "outputs": [],
   "source": [
    "plt.xlabel('Months')\n",
    "plt.ylabel('Rainfall (in mm)')\n",
    "plt.title('Monthly Rainfall Trend in Goa')\n",
    "plt.plot(month,max_rain,linewidth=5, color='green',label='Maximum Rain')\n",
    "plt.plot(month,avg_monthly_rain,linewidth=7,label='Average Rain')\n",
    "plt.legend(loc='upper left', fontsize=\"large\",shadow=True)"
   ]
  },
  {
   "cell_type": "code",
   "execution_count": null,
   "metadata": {},
   "outputs": [],
   "source": [
    "plt.xlabel('Months')\n",
    "plt.ylabel('Rainfall (in mm)')\n",
    "plt.title('Monthly Rainfall Trend in Goa')\n",
    "plt.plot(month,max_rain,linewidth=5, color='green',label='Maximum Rain')\n",
    "plt.plot(month,avg_monthly_rain,linewidth=7,label='Average Rain')\n",
    "plt.legend(loc='upper left', fontsize=\"large\",shadow=True)\n",
    "plt.grid()"
   ]
  },
  {
   "cell_type": "code",
   "execution_count": null,
   "metadata": {},
   "outputs": [],
   "source": [
    "month_name=['Jan','Feb','Mar','Apr','May','Jun','Jul','Aug','Sep','Oct','Nov','Dec']\n",
    "#plt.xticks(month,month_name)\n",
    "plt.xlabel('Months')\n",
    "plt.ylabel('Rainfall (in mm)')\n",
    "plt.title('Monthly Rainfall Trend in Goa')\n",
    "plt.plot(month_name,max_rain,linewidth=5, color='green',label='Maximum Rain')\n",
    "plt.plot(month_name,avg_monthly_rain,linewidth=7,label='Average Rain')\n",
    "plt.legend(loc='upper left', fontsize=\"large\",shadow=True)\n",
    "plt.grid()"
   ]
  },
  {
   "cell_type": "code",
   "execution_count": null,
   "metadata": {},
   "outputs": [],
   "source": [
    "month_name=['Jan','Feb','Mar','Apr','May','Jun','Jul','Aug','Sep','Oct','Nov','Dec']\n",
    "plt.xticks(month,month_name)\n",
    "plt.xlabel('Months')\n",
    "plt.ylabel('Rainfall (in mm)')\n",
    "plt.title('Monthly Rainfall Trend in Goa')\n",
    "plt.plot(month,max_rain,linewidth=5, color='green',label='Maximum Rain')\n",
    "plt.plot(month,avg_monthly_rain,linewidth=7,label='Average Rain')\n",
    "plt.legend(loc='upper left', fontsize=\"large\",shadow=True)\n",
    "plt.grid()\n",
    "plt.figure(figsize=(20,10))\n"
   ]
  },
  {
   "cell_type": "markdown",
   "metadata": {},
   "source": [
    "### Bar Chart"
   ]
  },
  {
   "cell_type": "markdown",
   "metadata": {},
   "source": [
    "<h3>Simple bar chart showing revenues of major Indian tech companies</h3>"
   ]
  },
  {
   "cell_type": "code",
   "execution_count": 1,
   "metadata": {},
   "outputs": [],
   "source": [
    "company=['Infosys','TCS','Wipro','Hcl']\n",
    "revenue=[190,236,189,97]"
   ]
  },
  {
   "cell_type": "code",
   "execution_count": 2,
   "metadata": {},
   "outputs": [
    {
     "data": {
      "text/plain": [
       "array([0, 1, 2, 3])"
      ]
     },
     "execution_count": 2,
     "metadata": {},
     "output_type": "execute_result"
    }
   ],
   "source": [
    "import numpy as np\n",
    "xpos = np.arange(len(company))\n",
    "xpos"
   ]
  },
  {
   "cell_type": "code",
   "execution_count": 5,
   "metadata": {},
   "outputs": [
    {
     "data": {
      "text/plain": [
       "<matplotlib.legend.Legend at 0x86cc780>"
      ]
     },
     "execution_count": 5,
     "metadata": {},
     "output_type": "execute_result"
    },
    {
     "data": {
      "image/png": "[encoded data removed]",
      "text/plain": [
       "<Figure size 432x288 with 1 Axes>"
      ]
     },
     "metadata": {
      "needs_background": "light"
     },
     "output_type": "display_data"
    }
   ],
   "source": [
    "plt.bar(xpos,revenue, label=\"Revenue\")\n",
    "#plt.xticks(xpos,company)\n",
    "plt.ylabel(\"Revenue(Bn)\")\n",
    "plt.xlabel(\"Company Name\")\n",
    "plt.title('India Top Technology Companies')\n",
    "plt.legend()"
   ]
  },
  {
   "cell_type": "code",
   "execution_count": 6,
   "metadata": {},
   "outputs": [
    {
     "data": {
      "text/plain": [
       "<matplotlib.legend.Legend at 0x8833668>"
      ]
     },
     "execution_count": 6,
     "metadata": {},
     "output_type": "execute_result"
    },
    {
     "data": {
      "image/png": "[encoded data removed]",
      "text/plain": [
       "<Figure size 432x288 with 1 Axes>"
      ]
     },
     "metadata": {
      "needs_background": "light"
     },
     "output_type": "display_data"
    }
   ],
   "source": [
    "plt.bar(xpos,revenue, label=\"Revenue\")\n",
    "plt.xticks(xpos,company)\n",
    "plt.ylabel(\"Revenue(Bn)\")\n",
    "plt.xlabel(\"Company Name\")\n",
    "plt.title('India Top Technology Companies')\n",
    "plt.legend()"
   ]
  },
  {
   "cell_type": "markdown",
   "metadata": {},
   "source": [
    "### Multiple Bars showing revenue and profit of Top Indian tech companies"
   ]
  },
  {
   "cell_type": "code",
   "execution_count": 7,
   "metadata": {},
   "outputs": [],
   "source": [
    "profit=[40,22,15,7]"
   ]
  },
  {
   "cell_type": "code",
   "execution_count": 8,
   "metadata": {
    "scrolled": true
   },
   "outputs": [
    {
     "data": {
      "text/plain": [
       "<matplotlib.legend.Legend at 0x86ccf28>"
      ]
     },
     "execution_count": 8,
     "metadata": {},
     "output_type": "execute_result"
    },
    {
     "data": {
      "image/png": "[encoded data removed]",
      "text/plain": [
       "<Figure size 432x288 with 1 Axes>"
      ]
     },
     "metadata": {
      "needs_background": "light"
     },
     "output_type": "display_data"
    }
   ],
   "source": [
    "plt.bar(xpos,revenue, label=\"Revenue\")\n",
    "plt.bar(xpos,profit,label=\"Profit\")\n",
    "plt.xticks(xpos,company)\n",
    "plt.ylabel(\"Revenue(Bln)\")\n",
    "plt.title('India Top Technology Companies')\n",
    "plt.legend()"
   ]
  },
  {
   "cell_type": "code",
   "execution_count": null,
   "metadata": {},
   "outputs": [],
   "source": [
    "np.array([1,2,3])"
   ]
  },
  {
   "cell_type": "code",
   "execution_count": null,
   "metadata": {
    "scrolled": true
   },
   "outputs": [],
   "source": [
    "np.array([1,2,3])+.2"
   ]
  },
  {
   "cell_type": "code",
   "execution_count": null,
   "metadata": {},
   "outputs": [],
   "source": [
    "xpos-.2"
   ]
  },
  {
   "cell_type": "code",
   "execution_count": null,
   "metadata": {},
   "outputs": [],
   "source": [
    "xpos+.2"
   ]
  },
  {
   "cell_type": "code",
   "execution_count": null,
   "metadata": {},
   "outputs": [],
   "source": [
    "plt.bar(xpos-0.2,revenue, width=0.3, label=\"Revenue\")\n",
    "plt.bar(xpos+0.2,profit, width=0.3,label=\"Profit\")\n",
    "plt.xticks(xpos,company)\n",
    "plt.ylabel(\"Revenue(Bln)\")\n",
    "plt.title('India Top Technology Companies')\n",
    "plt.legend()"
   ]
  },
  {
   "cell_type": "code",
   "execution_count": null,
   "metadata": {},
   "outputs": [],
   "source": [
    "plt.barh(xpos-0.2,revenue, label=\"Revenue\")\n",
    "plt.barh(xpos+0.2,profit,label=\"Profit\")\n",
    "plt.yticks(xpos,company)\n",
    "plt.ylabel(\"Revenue(Bln)\")\n",
    "plt.title('India Top Technology Companies')\n",
    "plt.legend()"
   ]
  },
  {
   "cell_type": "markdown",
   "metadata": {},
   "source": [
    "## Histogram\n",
    "\n",
    "#### In histograms, x axis contains a variable and y axis will be a frequency of that variable"
   ]
  },
  {
   "cell_type": "markdown",
   "metadata": {},
   "source": [
    "#### We have a sample data of blood sugar level of different patients, we will try to plot number of patients by blood range and try to figure out how many patients are normal, pre-diabetic and diabetic"
   ]
  },
  {
   "cell_type": "code",
   "execution_count": null,
   "metadata": {
    "scrolled": true
   },
   "outputs": [],
   "source": [
    "blood_sugar = [113, 85, 90, 150, 149, 88, 93, 115, 135, 80, 77, 82, 129]\n",
    "plt.hist(blood_sugar, rwidth=0.8) # by default number of bins is set to 10"
   ]
  },
  {
   "cell_type": "code",
   "execution_count": null,
   "metadata": {},
   "outputs": [],
   "source": [
    "np.linspace(77,150,11)"
   ]
  },
  {
   "cell_type": "code",
   "execution_count": null,
   "metadata": {},
   "outputs": [],
   "source": [
    "#plt.hist(blood_sugar,bins=3)\n",
    "plt.hist(blood_sugar,bins=3,rwidth=0.4)"
   ]
  },
  {
   "cell_type": "markdown",
   "metadata": {},
   "source": [
    "<h3 style='color:black'>Histogram showing normal, pre-diabetic and diabetic patients distribution</h3>\n",
    "\n",
    "<ul style=\"color:brown;font-weight: bold;\">\n",
    "    <li>80-100  : Normal</li>\n",
    "    <li>101-125 : Pre-diabetic</li>\n",
    "    <li>126-200  : Diabetic</li>\n",
    "</ul>"
   ]
  },
  {
   "cell_type": "code",
   "execution_count": null,
   "metadata": {},
   "outputs": [],
   "source": [
    "plt.xlabel(\"Sugar Level\")\n",
    "plt.ylabel(\"Number Of Patients\")\n",
    "plt.title(\"Blood Sugar Chart\")\n",
    "plt.hist(blood_sugar, bins=[70,100,125,150], rwidth=0.5)"
   ]
  },
  {
   "cell_type": "code",
   "execution_count": null,
   "metadata": {},
   "outputs": [],
   "source": [
    "plt.xlabel(\"Sugar Level\")\n",
    "plt.ylabel(\"Number Of Patients\")\n",
    "plt.title(\"Blood Sugar Chart\")\n",
    "\n",
    "blood_sugar_men = [113, 85, 90, 150, 149, 88, 93, 115, 135, 80, 77, 82, 129]\n",
    "blood_sugar_women = [67, 98, 89, 120, 133, 150, 84, 69, 89, 79, 120, 112, 100]\n",
    "\n",
    "plt.hist([blood_sugar_men,blood_sugar_women], bins=[80,100,125,150], rwidth=0.95, color=['blue','red'])"
   ]
  },
  {
   "cell_type": "markdown",
   "metadata": {},
   "source": [
    "### Histogram with multiple samples"
   ]
  },
  {
   "cell_type": "code",
   "execution_count": null,
   "metadata": {},
   "outputs": [],
   "source": [
    "plt.xlabel(\"Sugar Level\")\n",
    "plt.ylabel(\"Number Of Patients\")\n",
    "plt.title(\"Blood Sugar Chart\")\n",
    "\n",
    "blood_sugar_men = [113, 85, 90, 150, 149, 88, 93, 115, 135, 80, 77, 82, 129]\n",
    "blood_sugar_women = [67, 98, 89, 120, 133, 150, 84, 69, 89, 79, 120, 112, 100]\n",
    "\n",
    "plt.hist([blood_sugar_men,blood_sugar_women], bins=[80,100,125,150], rwidth=0.95, color=['green','orange'],label=['men','women'])\n",
    "plt.legend()"
   ]
  },
  {
   "cell_type": "markdown",
   "metadata": {},
   "source": [
    "#### Horizontal Orientation"
   ]
  },
  {
   "cell_type": "code",
   "execution_count": null,
   "metadata": {},
   "outputs": [],
   "source": [
    "plt.xlabel(\"Number Of Patients\")\n",
    "plt.ylabel(\"Sugar Level\")\n",
    "plt.title(\"Blood Sugar Chart\")\n",
    "\n",
    "plt.hist(blood_sugar, bins=[80,100,125,150], rwidth=0.95, orientation='horizontal')"
   ]
  },
  {
   "cell_type": "markdown",
   "metadata": {},
   "source": [
    "## Pie Chart \n",
    "\n",
    "#### Use Pie chart to analyze monthly home expenditure"
   ]
  },
  {
   "cell_type": "code",
   "execution_count": null,
   "metadata": {},
   "outputs": [],
   "source": [
    "exp_vals = [20000,10000,2000,4010,7500]\n",
    "exp_labels = [\"Home Rent\",\"Food\",\"Phone/Internet Bill\",\"Car \",\"Other Utilities\"]\n",
    "plt.pie(exp_vals,labels=exp_labels);"
   ]
  },
  {
   "cell_type": "code",
   "execution_count": null,
   "metadata": {},
   "outputs": [],
   "source": [
    "plt.pie(exp_vals,labels=exp_labels, shadow=True)\n",
    "plt.axis(\"equal\")\n",
    "plt.show()"
   ]
  },
  {
   "cell_type": "code",
   "execution_count": null,
   "metadata": {
    "scrolled": true
   },
   "outputs": [],
   "source": [
    "# Explode, percentage\n",
    "plt.axis(\"equal\")\n",
    "plt.pie(exp_vals,labels=exp_labels, shadow=True, autopct='%1.1f%%',radius=2,explode=[0,0.2,0,0.5,0])\n",
    "plt.show()"
   ]
  },
  {
   "cell_type": "code",
   "execution_count": null,
   "metadata": {},
   "outputs": [],
   "source": [
    "# Explode, percentage\n",
    "plt.axis(\"equal\")\n",
    "plt.pie(exp_vals,labels=exp_labels, shadow=True, autopct='%1.2f%%',radius=2,explode=[0,0,0,0.5,0])\n",
    "plt.show()"
   ]
  },
  {
   "cell_type": "markdown",
   "metadata": {},
   "source": [
    "### Exporting the Plot as an image file"
   ]
  },
  {
   "cell_type": "code",
   "execution_count": null,
   "metadata": {},
   "outputs": [],
   "source": [
    "# Explode, percentage\n",
    "plt.axis(\"equal\")\n",
    "plt.pie(exp_vals,labels=exp_labels, shadow=True, autopct='%1.1f%%',radius=1.5,explode=[0,0,0,0.1,0.2])\n",
    "plt.savefig(\"myfirstplot.jpeg\")"
   ]
  },
  {
   "cell_type": "code",
   "execution_count": null,
   "metadata": {},
   "outputs": [],
   "source": [
    "# Explode, percentage\n",
    "plt.axis(\"equal\")\n",
    "plt.pie(exp_vals,labels=exp_labels, shadow=True, autopct='%1.1f%%',radius=2.5,explode=[0,0,0,0.1,0.2])\n",
    "plt.savefig(\"myfirstplot2.jpeg\",bbox_inches='tight')"
   ]
  },
  {
   "cell_type": "markdown",
   "metadata": {},
   "source": [
    "#### 28 Jupyter Notebook tips, tricks, and shortcuts\n",
    "https://www.dataquest.io/blog/jupyter-notebook-tips-tricks-shortcuts/"
   ]
  },
  {
   "cell_type": "code",
   "execution_count": null,
   "metadata": {},
   "outputs": [],
   "source": [
    "%lsmagic"
   ]
  }
 ],
 "metadata": {
  "kernelspec": {
   "display_name": "Python 2",
   "language": "python",
   "name": "python2"
  },
  "language_info": {
   "codemirror_mode": {
    "name": "ipython",
    "version": 2
   },
   "file_extension": ".py",
   "mimetype": "text/x-python",
   "name": "python",
   "nbconvert_exporter": "python",
   "pygments_lexer": "ipython2",
   "version": "2.7.16"
  }
 },
 "nbformat": 4,
 "nbformat_minor": 2
}
